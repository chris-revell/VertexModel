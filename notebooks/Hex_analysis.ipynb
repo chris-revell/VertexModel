{
 "cells": [
  {
   "cell_type": "code",
   "execution_count": 2,
   "metadata": {},
   "outputs": [],
   "source": [
    "# Import Julia packages\n",
    "using DrWatson\n",
    "@quickactivate\n",
    "using Revise\n",
    "using LinearAlgebra\n",
    "using DelimitedFiles\n",
    "using SparseArrays\n",
    "using StaticArrays\n",
    "using BlockArrays\n",
    "using CairoMakie\n",
    "using UnPack\n",
    "using FromFile\n",
    "using GeometryBasics\n",
    "using Random\n",
    "using Colors\n",
    "using JLD2\n",
    "using LaTeXStrings\n",
    "using Glob\n",
    "using Printf\n",
    "using ColorSchemes\n",
    "using Statistics\n",
    "\n",
    "\n",
    "@from \"$(projectdir())/src/VertexModelContainers.jl\" using VertexModelContainers\n",
    "@from \"$(projectdir())/src/Laplacians.jl\" using Laplacians\n",
    "@from \"$(projectdir())/src/AnalysisFunctions.jl\" using AnalysisFunctions\n",
    "@from \"$(projectdir())/src/CellProperties.jl\" using CellProperties"
   ]
  },
  {
   "cell_type": "code",
   "execution_count": 45,
   "metadata": {},
   "outputs": [
    {
     "name": "stderr",
     "output_type": "stream",
     "text": [
      "┌ Warning: type VertexModel...\\VertexModelContainers.jl.VertexModelContainers.MatricesContainer does not exist in workspace; reconstructing\n",
      "└ @ JLD2 C:\\Users\\v35431nc\\.julia\\packages\\JLD2\\cHcDY\\src\\data\\reconstructing_datatypes.jl:605\n"
     ]
    },
    {
     "name": "stderr",
     "output_type": "stream",
     "text": [
      "┌ Warning: type VertexModel...\\VertexModelContainers.jl.VertexModelContainers.ParametersContainer does not exist in workspace; reconstructing\n",
      "└ @ JLD2 C:\\Users\\v35431nc\\.julia\\packages\\JLD2\\cHcDY\\src\\data\\reconstructing_datatypes.jl:605\n"
     ]
    },
    {
     "name": "stderr",
     "output_type": "stream",
     "text": [
      "┌ Warning: type VertexModel...\\VertexModelContainers.jl.VertexModelContainers.MatricesContainer does not exist in workspace; reconstructing\n",
      "└ @ JLD2 C:\\Users\\v35431nc\\.julia\\packages\\JLD2\\cHcDY\\src\\data\\reconstructing_datatypes.jl:605\n",
      "┌ Warning: type VertexModel...\\VertexModelContainers.jl.VertexModelContainers.ParametersContainer does not exist in workspace; reconstructing\n",
      "└ @ JLD2 C:\\Users\\v35431nc\\.julia\\packages\\JLD2\\cHcDY\\src\\data\\reconstructing_datatypes.jl:605\n",
      "┌ Warning: type VertexModel...\\VertexModelContainers.jl.VertexModelContainers.MatricesContainer does not exist in workspace; reconstructing\n",
      "└ @ JLD2 C:\\Users\\v35431nc\\.julia\\packages\\JLD2\\cHcDY\\src\\data\\reconstructing_datatypes.jl:605\n"
     ]
    },
    {
     "name": "stderr",
     "output_type": "stream",
     "text": [
      "┌ Warning: type VertexModel...\\VertexModelContainers.jl.VertexModelContainers.ParametersContainer does not exist in workspace; reconstructing\n",
      "└ @ JLD2 C:\\Users\\v35431nc\\.julia\\packages\\JLD2\\cHcDY\\src\\data\\reconstructing_datatypes.jl:605\n",
      "┌ Warning: type VertexModel...\\VertexModelContainers.jl.VertexModelContainers.MatricesContainer does not exist in workspace; reconstructing\n",
      "└ @ JLD2 C:\\Users\\v35431nc\\.julia\\packages\\JLD2\\cHcDY\\src\\data\\reconstructing_datatypes.jl:605\n",
      "┌ Warning: type VertexModel...\\VertexModelContainers.jl.VertexModelContainers.ParametersContainer does not exist in workspace; reconstructing\n",
      "└ @ JLD2 C:\\Users\\v35431nc\\.julia\\packages\\JLD2\\cHcDY\\src\\data\\reconstructing_datatypes.jl:605\n",
      "┌ Warning: type VertexModel...\\VertexModelContainers.jl.VertexModelContainers.MatricesContainer does not exist in workspace; reconstructing\n",
      "└ @ JLD2 C:\\Users\\v35431nc\\.julia\\packages\\JLD2\\cHcDY\\src\\data\\reconstructing_datatypes.jl:605\n",
      "┌ Warning: type VertexModel...\\VertexModelContainers.jl.VertexModelContainers.ParametersContainer does not exist in workspace; reconstructing\n",
      "└ @ JLD2 C:\\Users\\v35431nc\\.julia\\packages\\JLD2\\cHcDY\\src\\data\\reconstructing_datatypes.jl:605\n",
      "┌ Warning: type VertexModel...\\VertexModelContainers.jl.VertexModelContainers.MatricesContainer does not exist in workspace; reconstructing\n",
      "└ @ JLD2 C:\\Users\\v35431nc\\.julia\\packages\\JLD2\\cHcDY\\src\\data\\reconstructing_datatypes.jl:605\n"
     ]
    },
    {
     "name": "stderr",
     "output_type": "stream",
     "text": [
      "┌ Warning: type VertexModel...\\VertexModelContainers.jl.VertexModelContainers.ParametersContainer does not exist in workspace; reconstructing\n",
      "└ @ JLD2 C:\\Users\\v35431nc\\.julia\\packages\\JLD2\\cHcDY\\src\\data\\reconstructing_datatypes.jl:605\n",
      "┌ Warning: type VertexModel...\\VertexModelContainers.jl.VertexModelContainers.MatricesContainer does not exist in workspace; reconstructing\n",
      "└ @ JLD2 C:\\Users\\v35431nc\\.julia\\packages\\JLD2\\cHcDY\\src\\data\\reconstructing_datatypes.jl:605\n",
      "┌ Warning: type VertexModel...\\VertexModelContainers.jl.VertexModelContainers.ParametersContainer does not exist in workspace; reconstructing\n",
      "└ @ JLD2 C:\\Users\\v35431nc\\.julia\\packages\\JLD2\\cHcDY\\src\\data\\reconstructing_datatypes.jl:605\n",
      "┌ Warning: type VertexModel...\\VertexModelContainers.jl.VertexModelContainers.MatricesContainer does not exist in workspace; reconstructing\n",
      "└ @ JLD2 C:\\Users\\v35431nc\\.julia\\packages\\JLD2\\cHcDY\\src\\data\\reconstructing_datatypes.jl:605\n",
      "┌ Warning: type VertexModel...\\VertexModelContainers.jl.VertexModelContainers.ParametersContainer does not exist in workspace; reconstructing\n",
      "└ @ JLD2 C:\\Users\\v35431nc\\.julia\\packages\\JLD2\\cHcDY\\src\\data\\reconstructing_datatypes.jl:605\n",
      "┌ Warning: type VertexModel...\\VertexModelContainers.jl.VertexModelContainers.MatricesContainer does not exist in workspace; reconstructing\n",
      "└ @ JLD2 C:\\Users\\v35431nc\\.julia\\packages\\JLD2\\cHcDY\\src\\data\\reconstructing_datatypes.jl:605\n",
      "┌ Warning: type VertexModel...\\VertexModelContainers.jl.VertexModelContainers.ParametersContainer does not exist in workspace; reconstructing\n",
      "└ @ JLD2 C:\\Users\\v35431nc\\.julia\\packages\\JLD2\\cHcDY\\src\\data\\reconstructing_datatypes.jl:605\n"
     ]
    },
    {
     "name": "stderr",
     "output_type": "stream",
     "text": [
      "┌ Warning: type VertexModel...\\VertexModelContainers.jl.VertexModelContainers.MatricesContainer does not exist in workspace; reconstructing\n",
      "└ @ JLD2 C:\\Users\\v35431nc\\.julia\\packages\\JLD2\\cHcDY\\src\\data\\reconstructing_datatypes.jl:605\n",
      "┌ Warning: type VertexModel...\\VertexModelContainers.jl.VertexModelContainers.ParametersContainer does not exist in workspace; reconstructing\n",
      "└ @ JLD2 C:\\Users\\v35431nc\\.julia\\packages\\JLD2\\cHcDY\\src\\data\\reconstructing_datatypes.jl:605\n",
      "┌ Warning: type VertexModel...\\VertexModelContainers.jl.VertexModelContainers.MatricesContainer does not exist in workspace; reconstructing\n",
      "└ @ JLD2 C:\\Users\\v35431nc\\.julia\\packages\\JLD2\\cHcDY\\src\\data\\reconstructing_datatypes.jl:605\n",
      "┌ Warning: type VertexModel...\\VertexModelContainers.jl.VertexModelContainers.ParametersContainer does not exist in workspace; reconstructing\n",
      "└ @ JLD2 C:\\Users\\v35431nc\\.julia\\packages\\JLD2\\cHcDY\\src\\data\\reconstructing_datatypes.jl:605\n",
      "┌ Warning: type VertexModel...\\VertexModelContainers.jl.VertexModelContainers.MatricesContainer does not exist in workspace; reconstructing\n",
      "└ @ JLD2 C:\\Users\\v35431nc\\.julia\\packages\\JLD2\\cHcDY\\src\\data\\reconstructing_datatypes.jl:605\n",
      "┌ Warning: type VertexModel...\\VertexModelContainers.jl.VertexModelContainers.ParametersContainer does not exist in workspace; reconstructing\n",
      "└ @ JLD2 C:\\Users\\v35431nc\\.julia\\packages\\JLD2\\cHcDY\\src\\data\\reconstructing_datatypes.jl:605\n"
     ]
    },
    {
     "name": "stderr",
     "output_type": "stream",
     "text": [
      "┌ Warning: type VertexModel...\\VertexModelContainers.jl.VertexModelContainers.MatricesContainer does not exist in workspace; reconstructing\n",
      "└ @ JLD2 C:\\Users\\v35431nc\\.julia\\packages\\JLD2\\cHcDY\\src\\data\\reconstructing_datatypes.jl:605\n",
      "┌ Warning: type VertexModel...\\VertexModelContainers.jl.VertexModelContainers.ParametersContainer does not exist in workspace; reconstructing\n",
      "└ @ JLD2 C:\\Users\\v35431nc\\.julia\\packages\\JLD2\\cHcDY\\src\\data\\reconstructing_datatypes.jl:605\n",
      "┌ Warning: type VertexModel...\\VertexModelContainers.jl.VertexModelContainers.MatricesContainer does not exist in workspace; reconstructing\n",
      "└ @ JLD2 C:\\Users\\v35431nc\\.julia\\packages\\JLD2\\cHcDY\\src\\data\\reconstructing_datatypes.jl:605\n",
      "┌ Warning: type VertexModel...\\VertexModelContainers.jl.VertexModelContainers.ParametersContainer does not exist in workspace; reconstructing\n",
      "└ @ JLD2 C:\\Users\\v35431nc\\.julia\\packages\\JLD2\\cHcDY\\src\\data\\reconstructing_datatypes.jl:605\n",
      "┌ Warning: type VertexModel...\\VertexModelContainers.jl.VertexModelContainers.MatricesContainer does not exist in workspace; reconstructing\n",
      "└ @ JLD2 C:\\Users\\v35431nc\\.julia\\packages\\JLD2\\cHcDY\\src\\data\\reconstructing_datatypes.jl:605\n",
      "┌ Warning: type VertexModel...\\VertexModelContainers.jl.VertexModelContainers.ParametersContainer does not exist in workspace; reconstructing\n",
      "└ @ JLD2 C:\\Users\\v35431nc\\.julia\\packages\\JLD2\\cHcDY\\src\\data\\reconstructing_datatypes.jl:605\n",
      "┌ Warning: type VertexModel...\\VertexModelContainers.jl.VertexModelContainers.MatricesContainer does not exist in workspace; reconstructing\n",
      "└ @ JLD2 C:\\Users\\v35431nc\\.julia\\packages\\JLD2\\cHcDY\\src\\data\\reconstructing_datatypes.jl:605\n",
      "┌ Warning: type VertexModel...\\VertexModelContainers.jl.VertexModelContainers.ParametersContainer does not exist in workspace; reconstructing\n",
      "└ @ JLD2 C:\\Users\\v35431nc\\.julia\\packages\\JLD2\\cHcDY\\src\\data\\reconstructing_datatypes.jl:605\n"
     ]
    },
    {
     "name": "stderr",
     "output_type": "stream",
     "text": [
      "┌ Warning: type VertexModel...\\VertexModelContainers.jl.VertexModelContainers.MatricesContainer does not exist in workspace; reconstructing\n",
      "└ @ JLD2 C:\\Users\\v35431nc\\.julia\\packages\\JLD2\\cHcDY\\src\\data\\reconstructing_datatypes.jl:605\n",
      "┌ Warning: type VertexModel...\\VertexModelContainers.jl.VertexModelContainers.ParametersContainer does not exist in workspace; reconstructing\n",
      "└ @ JLD2 C:\\Users\\v35431nc\\.julia\\packages\\JLD2\\cHcDY\\src\\data\\reconstructing_datatypes.jl:605\n",
      "┌ Warning: type VertexModel...\\VertexModelContainers.jl.VertexModelContainers.MatricesContainer does not exist in workspace; reconstructing\n",
      "└ @ JLD2 C:\\Users\\v35431nc\\.julia\\packages\\JLD2\\cHcDY\\src\\data\\reconstructing_datatypes.jl:605\n",
      "┌ Warning: type VertexModel...\\VertexModelContainers.jl.VertexModelContainers.ParametersContainer does not exist in workspace; reconstructing\n",
      "└ @ JLD2 C:\\Users\\v35431nc\\.julia\\packages\\JLD2\\cHcDY\\src\\data\\reconstructing_datatypes.jl:605\n",
      "┌ Warning: type VertexModel...\\VertexModelContainers.jl.VertexModelContainers.MatricesContainer does not exist in workspace; reconstructing\n",
      "└ @ JLD2 C:\\Users\\v35431nc\\.julia\\packages\\JLD2\\cHcDY\\src\\data\\reconstructing_datatypes.jl:605\n",
      "┌ Warning: type VertexModel...\\VertexModelContainers.jl.VertexModelContainers.ParametersContainer does not exist in workspace; reconstructing\n",
      "└ @ JLD2 C:\\Users\\v35431nc\\.julia\\packages\\JLD2\\cHcDY\\src\\data\\reconstructing_datatypes.jl:605\n",
      "┌ Warning: type VertexModel...\\VertexModelContainers.jl.VertexModelContainers.MatricesContainer does not exist in workspace; reconstructing\n",
      "└ @ JLD2 C:\\Users\\v35431nc\\.julia\\packages\\JLD2\\cHcDY\\src\\data\\reconstructing_datatypes.jl:605\n"
     ]
    },
    {
     "name": "stderr",
     "output_type": "stream",
     "text": [
      "┌ Warning: type VertexModel...\\VertexModelContainers.jl.VertexModelContainers.ParametersContainer does not exist in workspace; reconstructing\n",
      "└ @ JLD2 C:\\Users\\v35431nc\\.julia\\packages\\JLD2\\cHcDY\\src\\data\\reconstructing_datatypes.jl:605\n",
      "┌ Warning: type VertexModel...\\VertexModelContainers.jl.VertexModelContainers.MatricesContainer does not exist in workspace; reconstructing\n",
      "└ @ JLD2 C:\\Users\\v35431nc\\.julia\\packages\\JLD2\\cHcDY\\src\\data\\reconstructing_datatypes.jl:605\n",
      "┌ Warning: type VertexModel...\\VertexModelContainers.jl.VertexModelContainers.ParametersContainer does not exist in workspace; reconstructing\n",
      "└ @ JLD2 C:\\Users\\v35431nc\\.julia\\packages\\JLD2\\cHcDY\\src\\data\\reconstructing_datatypes.jl:605\n",
      "┌ Warning: type VertexModel...\\VertexModelContainers.jl.VertexModelContainers.MatricesContainer does not exist in workspace; reconstructing\n",
      "└ @ JLD2 C:\\Users\\v35431nc\\.julia\\packages\\JLD2\\cHcDY\\src\\data\\reconstructing_datatypes.jl:605\n",
      "┌ Warning: type VertexModel...\\VertexModelContainers.jl.VertexModelContainers.ParametersContainer does not exist in workspace; reconstructing\n",
      "└ @ JLD2 C:\\Users\\v35431nc\\.julia\\packages\\JLD2\\cHcDY\\src\\data\\reconstructing_datatypes.jl:605\n"
     ]
    },
    {
     "name": "stderr",
     "output_type": "stream",
     "text": [
      "┌ Warning: type VertexModel...\\VertexModelContainers.jl.VertexModelContainers.MatricesContainer does not exist in workspace; reconstructing\n",
      "└ @ JLD2 C:\\Users\\v35431nc\\.julia\\packages\\JLD2\\cHcDY\\src\\data\\reconstructing_datatypes.jl:605\n",
      "┌ Warning: type VertexModel...\\VertexModelContainers.jl.VertexModelContainers.ParametersContainer does not exist in workspace; reconstructing\n",
      "└ @ JLD2 C:\\Users\\v35431nc\\.julia\\packages\\JLD2\\cHcDY\\src\\data\\reconstructing_datatypes.jl:605\n",
      "┌ Warning: type VertexModel...\\VertexModelContainers.jl.VertexModelContainers.MatricesContainer does not exist in workspace; reconstructing\n",
      "└ @ JLD2 C:\\Users\\v35431nc\\.julia\\packages\\JLD2\\cHcDY\\src\\data\\reconstructing_datatypes.jl:605\n",
      "┌ Warning: type VertexModel...\\VertexModelContainers.jl.VertexModelContainers.ParametersContainer does not exist in workspace; reconstructing\n",
      "└ @ JLD2 C:\\Users\\v35431nc\\.julia\\packages\\JLD2\\cHcDY\\src\\data\\reconstructing_datatypes.jl:605\n",
      "┌ Warning: type VertexModel...\\VertexModelContainers.jl.VertexModelContainers.MatricesContainer does not exist in workspace; reconstructing\n",
      "└ @ JLD2 C:\\Users\\v35431nc\\.julia\\packages\\JLD2\\cHcDY\\src\\data\\reconstructing_datatypes.jl:605\n",
      "┌ Warning: type VertexModel...\\VertexModelContainers.jl.VertexModelContainers.ParametersContainer does not exist in workspace; reconstructing\n",
      "└ @ JLD2 C:\\Users\\v35431nc\\.julia\\packages\\JLD2\\cHcDY\\src\\data\\reconstructing_datatypes.jl:605\n",
      "┌ Warning: type VertexModel...\\VertexModelContainers.jl.VertexModelContainers.MatricesContainer does not exist in workspace; reconstructing\n",
      "└ @ JLD2 C:\\Users\\v35431nc\\.julia\\packages\\JLD2\\cHcDY\\src\\data\\reconstructing_datatypes.jl:605\n",
      "┌ Warning: type VertexModel...\\VertexModelContainers.jl.VertexModelContainers.ParametersContainer does not exist in workspace; reconstructing\n",
      "└ @ JLD2 C:\\Users\\v35431nc\\.julia\\packages\\JLD2\\cHcDY\\src\\data\\reconstructing_datatypes.jl:605\n"
     ]
    },
    {
     "name": "stderr",
     "output_type": "stream",
     "text": [
      "┌ Warning: type VertexModel...\\VertexModelContainers.jl.VertexModelContainers.MatricesContainer does not exist in workspace; reconstructing\n",
      "└ @ JLD2 C:\\Users\\v35431nc\\.julia\\packages\\JLD2\\cHcDY\\src\\data\\reconstructing_datatypes.jl:605\n",
      "┌ Warning: type VertexModel...\\VertexModelContainers.jl.VertexModelContainers.ParametersContainer does not exist in workspace; reconstructing\n",
      "└ @ JLD2 C:\\Users\\v35431nc\\.julia\\packages\\JLD2\\cHcDY\\src\\data\\reconstructing_datatypes.jl:605\n",
      "┌ Warning: type VertexModel...\\VertexModelContainers.jl.VertexModelContainers.MatricesContainer does not exist in workspace; reconstructing\n",
      "└ @ JLD2 C:\\Users\\v35431nc\\.julia\\packages\\JLD2\\cHcDY\\src\\data\\reconstructing_datatypes.jl:605\n",
      "┌ Warning: type VertexModel...\\VertexModelContainers.jl.VertexModelContainers.ParametersContainer does not exist in workspace; reconstructing\n",
      "└ @ JLD2 C:\\Users\\v35431nc\\.julia\\packages\\JLD2\\cHcDY\\src\\data\\reconstructing_datatypes.jl:605\n",
      "┌ Warning: type VertexModel...\\VertexModelContainers.jl.VertexModelContainers.MatricesContainer does not exist in workspace; reconstructing\n",
      "└ @ JLD2 C:\\Users\\v35431nc\\.julia\\packages\\JLD2\\cHcDY\\src\\data\\reconstructing_datatypes.jl:605\n",
      "┌ Warning: type VertexModel...\\VertexModelContainers.jl.VertexModelContainers.ParametersContainer does not exist in workspace; reconstructing\n",
      "└ @ JLD2 C:\\Users\\v35431nc\\.julia\\packages\\JLD2\\cHcDY\\src\\data\\reconstructing_datatypes.jl:605\n"
     ]
    }
   ],
   "source": [
    "\n",
    "files=Glob.glob(\"new_energy/Hex_relax/relaxed/systemData*.jld2\",\"C:\\\\Users\\\\v35431nc\\\\Documents\\\\VM_code\\\\VertexModel\\\\data\\\\sims\" )\n",
    "saveDir=\"C:\\\\Users\\\\v35431nc\\\\Documents\\\\VM_code\\\\VertexModel\\\\data\\\\sims\\\\new_energy/Hex_relax/relaxed/\"\n",
    "Γ=zeros(0)\n",
    "L0=zeros(0)\n",
    "A_mean=zeros(0)\n",
    "L_mean=zeros(0)\n",
    "P_mean=zeros(0)\n",
    "T_mean=zeros(0)\n",
    "Peff_mean=zeros(0)\n",
    "SS_mean=zeros(0)\n",
    "for f in files\n",
    "    @unpack R, matrices, params = load(f)\n",
    "    @unpack nCells,nVerts, γ, L₀ = params\n",
    "    @unpack cellAreas,cellPerimeters, cellTensions, cellPressures = matrices\n",
    "\n",
    "\n",
    "    push!(Γ, mean(γ))\n",
    "    push!(L0, mean(L₀))\n",
    "    push!(A_mean,mean(cellAreas))\n",
    "    push!(L_mean,mean(cellPerimeters))\n",
    "    push!(P_mean,mean(cellPressures))\n",
    "    push!(T_mean,mean(-cellTensions))\n",
    "    shapeParameter=cellPerimeters./sqrt.(cellAreas)\n",
    "    Peff=getPeff(params, matrices)\n",
    "    cellQ, cellJ=makeCellQandJ(params, matrices)\n",
    "    cellShearStress=getShearStress(params, matrices, cellJ)\n",
    "    push!(Peff_mean,mean(Peff))\n",
    "    push!(SS_mean,mean(cellShearStress))\n",
    "\n",
    "    #scatter!(ax,n,sort(cellAreas) ,markersize=4, label=\"γ = \"*string(γ))\n",
    "    #scatter!(ax,n,sort(cellPerimeters) ,markersize=4, label=\"γ = \"*string(γ))\n",
    "    #scatter!(ax,n,sort(cellPressures) ,markersize=4, label=\"γ = \"*string(γ))\n",
    "    #scatter!(ax,n,sort(-cellTensions) ,markersize=4, label=\"γ = \"*string(γ))\n",
    "    #scatter!(ax,n,sort(Peff) ,markersize=6, label=\"γ = \"*string(γ))\n",
    "    #scatter!(ax,n,sort(cellShearStress) ,markersize=6, label=\"γ = \"*string(γ))\n",
    "\n",
    "\n",
    "        #vlines!(ax,2*nVerts+1-((2*nCells)-1), color=:red)\n",
    "    \n",
    "end"
   ]
  },
  {
   "cell_type": "code",
   "execution_count": 17,
   "metadata": {},
   "outputs": [
    {
     "data": {
      "text/plain": [
       "22-element Vector{Float64}:\n",
       " 0.1\n",
       " 0.25\n",
       " 0.5\n",
       " 0.1\n",
       " 0.25\n",
       " 0.5\n",
       " 0.1\n",
       " 0.25\n",
       " 0.5\n",
       " 0.1\n",
       " ⋮\n",
       " 0.25\n",
       " 0.5\n",
       " 0.1\n",
       " 0.25\n",
       " 0.5\n",
       " 0.05\n",
       " 0.1\n",
       " 0.25\n",
       " 0.5"
      ]
     },
     "metadata": {},
     "output_type": "display_data"
    }
   ],
   "source": [
    "Γ"
   ]
  },
  {
   "cell_type": "code",
   "execution_count": 23,
   "metadata": {},
   "outputs": [
    {
     "name": "stdout",
     "output_type": "stream",
     "text": []
    }
   ],
   "source": []
  },
  {
   "cell_type": "code",
   "execution_count": 46,
   "metadata": {},
   "outputs": [
    {
     "data": {
      "image/png": "[encoded data removed]"
     },
     "metadata": {},
     "output_type": "display_data"
    }
   ],
   "source": [
    "fig = Figure()\n",
    "set_theme!(figure_padding=5, backgroundcolor=(:white,1.0), font=\"Helvetica\", fontsize=19)\n",
    "ax=Axis(fig[1, 1], ylabel=\"Γ\", xlabel=\"L0\", title=\"Area\")\n",
    "\n",
    "scatter!(ax,L0,Γ, color=A_mean,markersize=10)\n",
    "\n",
    "Colorbar(fig[1,2],limits=(minimum(A_mean), maximum(A_mean)),colormap=:viridis,flipaxis=true)\n",
    "\n",
    "save(datadir(saveDir,\"Hex_Area.png\"),fig)\n",
    "\n",
    "fig\n",
    "\n",
    "fig = Figure()\n",
    "set_theme!(figure_padding=5, backgroundcolor=(:white,1.0), font=\"Helvetica\", fontsize=19)\n",
    "ax=Axis(fig[1, 1], ylabel=\"Γ\", xlabel=\"L0\", title=\"Perimeter\")\n",
    "\n",
    "scatter!(ax,L0,Γ, color=L_mean,markersize=10)\n",
    "\n",
    "Colorbar(fig[1,2],limits=(minimum(L_mean), maximum(L_mean)),colormap=:viridis,flipaxis=true)\n",
    "\n",
    "save(datadir(saveDir,\"Hex_Perimeter.png\"),fig)\n",
    "\n",
    "fig\n",
    "\n",
    "fig = Figure()\n",
    "set_theme!(figure_padding=5, backgroundcolor=(:white,1.0), font=\"Helvetica\", fontsize=19)\n",
    "ax=Axis(fig[1, 1], ylabel=\"Γ\", xlabel=\"L0\", title=\"Pressure\")\n",
    "\n",
    "scatter!(ax,L0,Γ, color=P_mean,markersize=10)\n",
    "\n",
    "Colorbar(fig[1,2],limits=(minimum(P_mean), maximum(P_mean)),colormap=:viridis,flipaxis=true)\n",
    "\n",
    "save(datadir(saveDir,\"Hex_Pressure.png\"),fig)\n",
    "\n",
    "fig\n",
    "\n",
    "fig = Figure()\n",
    "set_theme!(figure_padding=5, backgroundcolor=(:white,1.0), font=\"Helvetica\", fontsize=19)\n",
    "ax=Axis(fig[1, 1], ylabel=\"Γ\", xlabel=\"L0\", title=\"Tension\")\n",
    "\n",
    "scatter!(ax,L0,Γ, color=T_mean,markersize=10)\n",
    "\n",
    "Colorbar(fig[1,2],limits=(minimum(T_mean), maximum(T_mean)),colormap=:viridis,flipaxis=true)\n",
    "\n",
    "save(datadir(saveDir,\"Hex_Tension.png\"),fig)\n",
    "\n",
    "fig\n",
    "\n"
   ]
  },
  {
   "cell_type": "code",
   "execution_count": null,
   "metadata": {},
   "outputs": [],
   "source": []
  }
 ],
 "metadata": {
  "kernelspec": {
   "display_name": "Julia 1.9.3",
   "language": "julia",
   "name": "julia-1.9"
  },
  "language_info": {
   "file_extension": ".jl",
   "mimetype": "application/julia",
   "name": "julia",
   "version": "1.9.3"
  }
 },
 "nbformat": 4,
 "nbformat_minor": 2
}
