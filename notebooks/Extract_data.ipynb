{
 "cells": [
  {
   "cell_type": "code",
   "execution_count": null,
   "metadata": {},
   "outputs": [],
   "source": [
    "# Import Julia packages\n",
    "using DrWatson\n",
    "@quickactivate\n",
    "using Revise\n",
    "using DelimitedFiles\n",
    "using SparseArrays\n",
    "using StaticArrays\n",
    "using UnPack\n",
    "using FromFile\n",
    "using JLD2\n",
    "using LaTeXStrings\n",
    "using Glob\n",
    "using Printf\n",
    "\n",
    "\n",
    "@from \"$(projectdir())/src/VertexModelContainers.jl\" using VertexModelContainers"
   ]
  },
  {
   "cell_type": "code",
   "execution_count": null,
   "metadata": {},
   "outputs": [
    {
     "name": "stderr",
     "output_type": "stream",
     "text": [
      "┌ Warning: type VertexModel...\\VertexModelContainers.jl.VertexModelContainers.MatricesContainer does not exist in workspace; reconstructing\n",
      "└ @ JLD2 C:\\Users\\v35431nc\\.julia\\packages\\JLD2\\cHcDY\\src\\data\\reconstructing_datatypes.jl:605\n",
      "┌ Warning: type VertexModel...\\VertexModelContainers.jl.VertexModelContainers.ParametersContainer does not exist in workspace; reconstructing\n",
      "└ @ JLD2 C:\\Users\\v35431nc\\.julia\\packages\\JLD2\\cHcDY\\src\\data\\reconstructing_datatypes.jl:605\n",
      "┌ Warning: type VertexModel...\\VertexModelContainers.jl.VertexModelContainers.MatricesContainer does not exist in workspace; reconstructing\n",
      "└ @ JLD2 C:\\Users\\v35431nc\\.julia\\packages\\JLD2\\cHcDY\\src\\data\\reconstructing_datatypes.jl:605\n",
      "┌ Warning: type VertexModel...\\VertexModelContainers.jl.VertexModelContainers.ParametersContainer does not exist in workspace; reconstructing\n",
      "└ @ JLD2 C:\\Users\\v35431nc\\.julia\\packages\\JLD2\\cHcDY\\src\\data\\reconstructing_datatypes.jl:605\n",
      "┌ Warning: type VertexModel...\\VertexModelContainers.jl.VertexModelContainers.MatricesContainer does not exist in workspace; reconstructing\n",
      "└ @ JLD2 C:\\Users\\v35431nc\\.julia\\packages\\JLD2\\cHcDY\\src\\data\\reconstructing_datatypes.jl:605\n",
      "┌ Warning: type VertexModel...\\VertexModelContainers.jl.VertexModelContainers.ParametersContainer does not exist in workspace; reconstructing\n",
      "└ @ JLD2 C:\\Users\\v35431nc\\.julia\\packages\\JLD2\\cHcDY\\src\\data\\reconstructing_datatypes.jl:605\n",
      "┌ Warning: type VertexModel...\\VertexModelContainers.jl.VertexModelContainers.MatricesContainer does not exist in workspace; reconstructing\n",
      "└ @ JLD2 C:\\Users\\v35431nc\\.julia\\packages\\JLD2\\cHcDY\\src\\data\\reconstructing_datatypes.jl:605\n",
      "┌ Warning: type VertexModel...\\VertexModelContainers.jl.VertexModelContainers.ParametersContainer does not exist in workspace; reconstructing\n",
      "└ @ JLD2 C:\\Users\\v35431nc\\.julia\\packages\\JLD2\\cHcDY\\src\\data\\reconstructing_datatypes.jl:605\n",
      "┌ Warning: type VertexModel...\\VertexModelContainers.jl.VertexModelContainers.MatricesContainer does not exist in workspace; reconstructing\n",
      "└ @ JLD2 C:\\Users\\v35431nc\\.julia\\packages\\JLD2\\cHcDY\\src\\data\\reconstructing_datatypes.jl:605\n",
      "┌ Warning: type VertexModel...\\VertexModelContainers.jl.VertexModelContainers.ParametersContainer does not exist in workspace; reconstructing\n",
      "└ @ JLD2 C:\\Users\\v35431nc\\.julia\\packages\\JLD2\\cHcDY\\src\\data\\reconstructing_datatypes.jl:605\n",
      "┌ Warning: type VertexModel...\\VertexModelContainers.jl.VertexModelContainers.MatricesContainer does not exist in workspace; reconstructing\n",
      "└ @ JLD2 C:\\Users\\v35431nc\\.julia\\packages\\JLD2\\cHcDY\\src\\data\\reconstructing_datatypes.jl:605\n",
      "┌ Warning: type VertexModel...\\VertexModelContainers.jl.VertexModelContainers.ParametersContainer does not exist in workspace; reconstructing\n",
      "└ @ JLD2 C:\\Users\\v35431nc\\.julia\\packages\\JLD2\\cHcDY\\src\\data\\reconstructing_datatypes.jl:605\n",
      "┌ Warning: type VertexModel...\\VertexModelContainers.jl.VertexModelContainers.MatricesContainer does not exist in workspace; reconstructing\n",
      "└ @ JLD2 C:\\Users\\v35431nc\\.julia\\packages\\JLD2\\cHcDY\\src\\data\\reconstructing_datatypes.jl:605\n",
      "┌ Warning: type VertexModel...\\VertexModelContainers.jl.VertexModelContainers.ParametersContainer does not exist in workspace; reconstructing\n",
      "└ @ JLD2 C:\\Users\\v35431nc\\.julia\\packages\\JLD2\\cHcDY\\src\\data\\reconstructing_datatypes.jl:605\n",
      "┌ Warning: type VertexModel...\\VertexModelContainers.jl.VertexModelContainers.MatricesContainer does not exist in workspace; reconstructing\n",
      "└ @ JLD2 C:\\Users\\v35431nc\\.julia\\packages\\JLD2\\cHcDY\\src\\data\\reconstructing_datatypes.jl:605\n",
      "┌ Warning: type VertexModel...\\VertexModelContainers.jl.VertexModelContainers.ParametersContainer does not exist in workspace; reconstructing\n",
      "└ @ JLD2 C:\\Users\\v35431nc\\.julia\\packages\\JLD2\\cHcDY\\src\\data\\reconstructing_datatypes.jl:605\n",
      "┌ Warning: type VertexModel...\\VertexModelContainers.jl.VertexModelContainers.MatricesContainer does not exist in workspace; reconstructing\n",
      "└ @ JLD2 C:\\Users\\v35431nc\\.julia\\packages\\JLD2\\cHcDY\\src\\data\\reconstructing_datatypes.jl:605\n",
      "┌ Warning: type VertexModel...\\VertexModelContainers.jl.VertexModelContainers.ParametersContainer does not exist in workspace; reconstructing\n",
      "└ @ JLD2 C:\\Users\\v35431nc\\.julia\\packages\\JLD2\\cHcDY\\src\\data\\reconstructing_datatypes.jl:605\n",
      "┌ Warning: type VertexModel...\\VertexModelContainers.jl.VertexModelContainers.MatricesContainer does not exist in workspace; reconstructing\n",
      "└ @ JLD2 C:\\Users\\v35431nc\\.julia\\packages\\JLD2\\cHcDY\\src\\data\\reconstructing_datatypes.jl:605\n",
      "┌ Warning: type VertexModel...\\VertexModelContainers.jl.VertexModelContainers.ParametersContainer does not exist in workspace; reconstructing\n",
      "└ @ JLD2 C:\\Users\\v35431nc\\.julia\\packages\\JLD2\\cHcDY\\src\\data\\reconstructing_datatypes.jl:605\n",
      "┌ Warning: type VertexModel...\\VertexModelContainers.jl.VertexModelContainers.MatricesContainer does not exist in workspace; reconstructing\n",
      "└ @ JLD2 C:\\Users\\v35431nc\\.julia\\packages\\JLD2\\cHcDY\\src\\data\\reconstructing_datatypes.jl:605\n",
      "┌ Warning: type VertexModel...\\VertexModelContainers.jl.VertexModelContainers.ParametersContainer does not exist in workspace; reconstructing\n",
      "└ @ JLD2 C:\\Users\\v35431nc\\.julia\\packages\\JLD2\\cHcDY\\src\\data\\reconstructing_datatypes.jl:605\n",
      "┌ Warning: type VertexModel...\\VertexModelContainers.jl.VertexModelContainers.MatricesContainer does not exist in workspace; reconstructing\n",
      "└ @ JLD2 C:\\Users\\v35431nc\\.julia\\packages\\JLD2\\cHcDY\\src\\data\\reconstructing_datatypes.jl:605\n",
      "┌ Warning: type VertexModel...\\VertexModelContainers.jl.VertexModelContainers.ParametersContainer does not exist in workspace; reconstructing\n",
      "└ @ JLD2 C:\\Users\\v35431nc\\.julia\\packages\\JLD2\\cHcDY\\src\\data\\reconstructing_datatypes.jl:605\n",
      "┌ Warning: type VertexModel...\\VertexModelContainers.jl.VertexModelContainers.MatricesContainer does not exist in workspace; reconstructing\n",
      "└ @ JLD2 C:\\Users\\v35431nc\\.julia\\packages\\JLD2\\cHcDY\\src\\data\\reconstructing_datatypes.jl:605\n",
      "┌ Warning: type VertexModel...\\VertexModelContainers.jl.VertexModelContainers.ParametersContainer does not exist in workspace; reconstructing\n",
      "└ @ JLD2 C:\\Users\\v35431nc\\.julia\\packages\\JLD2\\cHcDY\\src\\data\\reconstructing_datatypes.jl:605\n",
      "┌ Warning: type VertexModel...\\VertexModelContainers.jl.VertexModelContainers.MatricesContainer does not exist in workspace; reconstructing\n",
      "└ @ JLD2 C:\\Users\\v35431nc\\.julia\\packages\\JLD2\\cHcDY\\src\\data\\reconstructing_datatypes.jl:605\n",
      "┌ Warning: type VertexModel...\\VertexModelContainers.jl.VertexModelContainers.ParametersContainer does not exist in workspace; reconstructing\n",
      "└ @ JLD2 C:\\Users\\v35431nc\\.julia\\packages\\JLD2\\cHcDY\\src\\data\\reconstructing_datatypes.jl:605\n"
     ]
    }
   ],
   "source": [
    "\n",
    "files=Glob.glob(\"pseudo2D/500_cells/Final_config_Hfixed/systemData*.jld2\",\"C:\\\\Documents\\\\VM_code\\\\VertexModel\\\\data\\\\sims\" )\n",
    "saveDir=\"C:\\\\Documents\\\\VM_code\\\\VertexModel\\\\data\\\\sims\\\\pseudo2D/500_cells/Final_config\"\n",
    "\n",
    "\n",
    "\n",
    "for f in files\n",
    "    @unpack R, matrices, params = load(f)\n",
    "    @unpack nCells,nVerts, Γa,ΓA,ΓL, L₀ = params\n",
    "    @unpack cellAreas,cellPerimeters, cellTensions, cellPressures, cellEdgeCount,cellHeights = matrices\n",
    "\n",
    "    data=hcat(ones(nCells)*Γa,ones(nCells)*ΓA,ones(nCells)*ΓL,ones(nCells)*L₀,cellHeights,cellEdgeCount,cellAreas, cellPerimeters, cellTensions, cellPressures)\n",
    "    writedlm(datadir(saveDir,\"data_Γa_\"*string(params.Γa)*\"_ΓA_\"*string(params.ΓA)*\"_ΓL_\"*string(params.ΓL)*\"_L0_\"*string(params.L₀)*\".csv\"), data, ',')\n",
    "end"
   ]
  },
  {
   "cell_type": "code",
   "execution_count": null,
   "metadata": {},
   "outputs": [],
   "source": []
  }
 ],
 "metadata": {
  "kernelspec": {
   "display_name": "Julia 1.9.3",
   "language": "julia",
   "name": "julia-1.9"
  },
  "language_info": {
   "file_extension": ".jl",
   "mimetype": "application/julia",
   "name": "julia",
   "version": "1.9.3"
  }
 },
 "nbformat": 4,
 "nbformat_minor": 2
}
