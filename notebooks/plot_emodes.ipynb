{
 "cells": [
  {
   "cell_type": "code",
   "execution_count": 1,
   "metadata": {},
   "outputs": [],
   "source": [
    "# Import Julia packages\n",
    "using DrWatson\n",
    "@quickactivate\n",
    "using Revise\n",
    "using LinearAlgebra\n",
    "using DelimitedFiles\n",
    "using SparseArrays\n",
    "using StaticArrays\n",
    "using BlockArrays\n",
    "using CairoMakie\n",
    "using UnPack\n",
    "using FromFile\n",
    "using GeometryBasics\n",
    "using Random\n",
    "using Colors\n",
    "using JLD2\n",
    "using LaTeXStrings\n",
    "using Glob\n",
    "\n",
    "\n",
    "@from \"$(projectdir())/src/VertexModelContainers.jl\" using VertexModelContainers\n",
    "@from \"$(projectdir())/src/Laplacians.jl\" using Laplacians\n",
    "@from \"$(projectdir())/src/AnalysisFunctions.jl\" using AnalysisFunctions"
   ]
  },
  {
   "cell_type": "code",
   "execution_count": 2,
   "metadata": {},
   "outputs": [
    {
     "name": "stderr",
     "output_type": "stream",
     "text": [
      "┌ Warning: type VertexModel...\\VertexModelContainers.jl.VertexModelContainers.MatricesContainer does not exist in workspace; reconstructing\n",
      "└ @ JLD2 C:\\Users\\v35431nc\\.julia\\packages\\JLD2\\cHcDY\\src\\data\\reconstructing_datatypes.jl:605\n"
     ]
    },
    {
     "name": "stderr",
     "output_type": "stream",
     "text": [
      "┌ Warning: type VertexModel...\\VertexModelContainers.jl.VertexModelContainers.ParametersContainer does not exist in workspace; reconstructing\n",
      "└ @ JLD2 C:\\Users\\v35431nc\\.julia\\packages\\JLD2\\cHcDY\\src\\data\\reconstructing_datatypes.jl:605\n",
      "┌ Warning: type VertexModel...\\VertexModelContainers.jl.VertexModelContainers.MatricesContainer does not exist in workspace; reconstructing\n",
      "└ @ JLD2 C:\\Users\\v35431nc\\.julia\\packages\\JLD2\\cHcDY\\src\\data\\reconstructing_datatypes.jl:605\n",
      "┌ Warning: type VertexModel...\\VertexModelContainers.jl.VertexModelContainers.ParametersContainer does not exist in workspace; reconstructing\n",
      "└ @ JLD2 C:\\Users\\v35431nc\\.julia\\packages\\JLD2\\cHcDY\\src\\data\\reconstructing_datatypes.jl:605\n"
     ]
    },
    {
     "name": "stderr",
     "output_type": "stream",
     "text": [
      "┌ Warning: type VertexModel...\\VertexModelContainers.jl.VertexModelContainers.MatricesContainer does not exist in workspace; reconstructing\n",
      "└ @ JLD2 C:\\Users\\v35431nc\\.julia\\packages\\JLD2\\cHcDY\\src\\data\\reconstructing_datatypes.jl:605\n"
     ]
    },
    {
     "name": "stderr",
     "output_type": "stream",
     "text": [
      "┌ Warning: type VertexModel...\\VertexModelContainers.jl.VertexModelContainers.ParametersContainer does not exist in workspace; reconstructing\n",
      "└ @ JLD2 C:\\Users\\v35431nc\\.julia\\packages\\JLD2\\cHcDY\\src\\data\\reconstructing_datatypes.jl:605\n",
      "┌ Warning: type VertexModel...\\VertexModelContainers.jl.VertexModelContainers.MatricesContainer does not exist in workspace; reconstructing\n",
      "└ @ JLD2 C:\\Users\\v35431nc\\.julia\\packages\\JLD2\\cHcDY\\src\\data\\reconstructing_datatypes.jl:605\n",
      "┌ Warning: type VertexModel...\\VertexModelContainers.jl.VertexModelContainers.ParametersContainer does not exist in workspace; reconstructing\n",
      "└ @ JLD2 C:\\Users\\v35431nc\\.julia\\packages\\JLD2\\cHcDY\\src\\data\\reconstructing_datatypes.jl:605\n"
     ]
    },
    {
     "name": "stderr",
     "output_type": "stream",
     "text": [
      "┌ Warning: type VertexModel...\\VertexModelContainers.jl.VertexModelContainers.MatricesContainer does not exist in workspace; reconstructing\n",
      "└ @ JLD2 C:\\Users\\v35431nc\\.julia\\packages\\JLD2\\cHcDY\\src\\data\\reconstructing_datatypes.jl:605\n"
     ]
    },
    {
     "name": "stderr",
     "output_type": "stream",
     "text": [
      "┌ Warning: type VertexModel...\\VertexModelContainers.jl.VertexModelContainers.ParametersContainer does not exist in workspace; reconstructing\n",
      "└ @ JLD2 C:\\Users\\v35431nc\\.julia\\packages\\JLD2\\cHcDY\\src\\data\\reconstructing_datatypes.jl:605\n",
      "┌ Warning: type VertexModel...\\VertexModelContainers.jl.VertexModelContainers.MatricesContainer does not exist in workspace; reconstructing\n",
      "└ @ JLD2 C:\\Users\\v35431nc\\.julia\\packages\\JLD2\\cHcDY\\src\\data\\reconstructing_datatypes.jl:605\n"
     ]
    },
    {
     "name": "stderr",
     "output_type": "stream",
     "text": [
      "┌ Warning: type VertexModel...\\VertexModelContainers.jl.VertexModelContainers.ParametersContainer does not exist in workspace; reconstructing\n",
      "└ @ JLD2 C:\\Users\\v35431nc\\.julia\\packages\\JLD2\\cHcDY\\src\\data\\reconstructing_datatypes.jl:605\n",
      "┌ Warning: type VertexModel...\\VertexModelContainers.jl.VertexModelContainers.MatricesContainer does not exist in workspace; reconstructing\n",
      "└ @ JLD2 C:\\Users\\v35431nc\\.julia\\packages\\JLD2\\cHcDY\\src\\data\\reconstructing_datatypes.jl:605\n",
      "┌ Warning: type VertexModel...\\VertexModelContainers.jl.VertexModelContainers.ParametersContainer does not exist in workspace; reconstructing\n",
      "└ @ JLD2 C:\\Users\\v35431nc\\.julia\\packages\\JLD2\\cHcDY\\src\\data\\reconstructing_datatypes.jl:605\n"
     ]
    },
    {
     "name": "stderr",
     "output_type": "stream",
     "text": [
      "┌ Warning: type VertexModel...\\VertexModelContainers.jl.VertexModelContainers.MatricesContainer does not exist in workspace; reconstructing\n",
      "└ @ JLD2 C:\\Users\\v35431nc\\.julia\\packages\\JLD2\\cHcDY\\src\\data\\reconstructing_datatypes.jl:605\n",
      "┌ Warning: type VertexModel...\\VertexModelContainers.jl.VertexModelContainers.ParametersContainer does not exist in workspace; reconstructing\n",
      "└ @ JLD2 C:\\Users\\v35431nc\\.julia\\packages\\JLD2\\cHcDY\\src\\data\\reconstructing_datatypes.jl:605\n"
     ]
    },
    {
     "name": "stderr",
     "output_type": "stream",
     "text": [
      "┌ Warning: type VertexModel...\\VertexModelContainers.jl.VertexModelContainers.MatricesContainer does not exist in workspace; reconstructing\n",
      "└ @ JLD2 C:\\Users\\v35431nc\\.julia\\packages\\JLD2\\cHcDY\\src\\data\\reconstructing_datatypes.jl:605\n",
      "┌ Warning: type VertexModel...\\VertexModelContainers.jl.VertexModelContainers.ParametersContainer does not exist in workspace; reconstructing\n",
      "└ @ JLD2 C:\\Users\\v35431nc\\.julia\\packages\\JLD2\\cHcDY\\src\\data\\reconstructing_datatypes.jl:605\n"
     ]
    },
    {
     "name": "stderr",
     "output_type": "stream",
     "text": [
      "┌ Warning: type VertexModel...\\VertexModelContainers.jl.VertexModelContainers.MatricesContainer does not exist in workspace; reconstructing\n",
      "└ @ JLD2 C:\\Users\\v35431nc\\.julia\\packages\\JLD2\\cHcDY\\src\\data\\reconstructing_datatypes.jl:605\n",
      "┌ Warning: type VertexModel...\\VertexModelContainers.jl.VertexModelContainers.ParametersContainer does not exist in workspace; reconstructing\n",
      "└ @ JLD2 C:\\Users\\v35431nc\\.julia\\packages\\JLD2\\cHcDY\\src\\data\\reconstructing_datatypes.jl:605\n"
     ]
    },
    {
     "name": "stderr",
     "output_type": "stream",
     "text": [
      "┌ Warning: type VertexModel...\\VertexModelContainers.jl.VertexModelContainers.MatricesContainer does not exist in workspace; reconstructing\n",
      "└ @ JLD2 C:\\Users\\v35431nc\\.julia\\packages\\JLD2\\cHcDY\\src\\data\\reconstructing_datatypes.jl:605\n",
      "┌ Warning: type VertexModel...\\VertexModelContainers.jl.VertexModelContainers.ParametersContainer does not exist in workspace; reconstructing\n",
      "└ @ JLD2 C:\\Users\\v35431nc\\.julia\\packages\\JLD2\\cHcDY\\src\\data\\reconstructing_datatypes.jl:605\n"
     ]
    },
    {
     "name": "stderr",
     "output_type": "stream",
     "text": [
      "┌ Warning: type VertexModel...\\VertexModelContainers.jl.VertexModelContainers.MatricesContainer does not exist in workspace; reconstructing\n",
      "└ @ JLD2 C:\\Users\\v35431nc\\.julia\\packages\\JLD2\\cHcDY\\src\\data\\reconstructing_datatypes.jl:605\n",
      "┌ Warning: type VertexModel...\\VertexModelContainers.jl.VertexModelContainers.ParametersContainer does not exist in workspace; reconstructing\n",
      "└ @ JLD2 C:\\Users\\v35431nc\\.julia\\packages\\JLD2\\cHcDY\\src\\data\\reconstructing_datatypes.jl:605\n"
     ]
    },
    {
     "name": "stderr",
     "output_type": "stream",
     "text": [
      "┌ Warning: type VertexModel...\\VertexModelContainers.jl.VertexModelContainers.MatricesContainer does not exist in workspace; reconstructing\n",
      "└ @ JLD2 C:\\Users\\v35431nc\\.julia\\packages\\JLD2\\cHcDY\\src\\data\\reconstructing_datatypes.jl:605\n",
      "┌ Warning: type VertexModel...\\VertexModelContainers.jl.VertexModelContainers.ParametersContainer does not exist in workspace; reconstructing\n",
      "└ @ JLD2 C:\\Users\\v35431nc\\.julia\\packages\\JLD2\\cHcDY\\src\\data\\reconstructing_datatypes.jl:605\n"
     ]
    },
    {
     "name": "stderr",
     "output_type": "stream",
     "text": [
      "┌ Warning: type VertexModel...\\VertexModelContainers.jl.VertexModelContainers.MatricesContainer does not exist in workspace; reconstructing\n",
      "└ @ JLD2 C:\\Users\\v35431nc\\.julia\\packages\\JLD2\\cHcDY\\src\\data\\reconstructing_datatypes.jl:605\n",
      "┌ Warning: type VertexModel...\\VertexModelContainers.jl.VertexModelContainers.ParametersContainer does not exist in workspace; reconstructing\n",
      "└ @ JLD2 C:\\Users\\v35431nc\\.julia\\packages\\JLD2\\cHcDY\\src\\data\\reconstructing_datatypes.jl:605\n"
     ]
    },
    {
     "name": "stderr",
     "output_type": "stream",
     "text": [
      "┌ Warning: type VertexModel...\\VertexModelContainers.jl.VertexModelContainers.MatricesContainer does not exist in workspace; reconstructing\n",
      "└ @ JLD2 C:\\Users\\v35431nc\\.julia\\packages\\JLD2\\cHcDY\\src\\data\\reconstructing_datatypes.jl:605\n"
     ]
    },
    {
     "name": "stderr",
     "output_type": "stream",
     "text": [
      "┌ Warning: type VertexModel...\\VertexModelContainers.jl.VertexModelContainers.ParametersContainer does not exist in workspace; reconstructing\n",
      "└ @ JLD2 C:\\Users\\v35431nc\\.julia\\packages\\JLD2\\cHcDY\\src\\data\\reconstructing_datatypes.jl:605\n"
     ]
    },
    {
     "name": "stderr",
     "output_type": "stream",
     "text": [
      "┌ Warning: type VertexModel...\\VertexModelContainers.jl.VertexModelContainers.MatricesContainer does not exist in workspace; reconstructing\n",
      "└ @ JLD2 C:\\Users\\v35431nc\\.julia\\packages\\JLD2\\cHcDY\\src\\data\\reconstructing_datatypes.jl:605\n",
      "┌ Warning: type VertexModel...\\VertexModelContainers.jl.VertexModelContainers.ParametersContainer does not exist in workspace; reconstructing\n",
      "└ @ JLD2 C:\\Users\\v35431nc\\.julia\\packages\\JLD2\\cHcDY\\src\\data\\reconstructing_datatypes.jl:605\n",
      "┌ Warning: type VertexModel...\\VertexModelContainers.jl.VertexModelContainers.MatricesContainer does not exist in workspace; reconstructing\n",
      "└ @ JLD2 C:\\Users\\v35431nc\\.julia\\packages\\JLD2\\cHcDY\\src\\data\\reconstructing_datatypes.jl:605\n"
     ]
    },
    {
     "name": "stderr",
     "output_type": "stream",
     "text": [
      "┌ Warning: type VertexModel...\\VertexModelContainers.jl.VertexModelContainers.ParametersContainer does not exist in workspace; reconstructing\n",
      "└ @ JLD2 C:\\Users\\v35431nc\\.julia\\packages\\JLD2\\cHcDY\\src\\data\\reconstructing_datatypes.jl:605\n",
      "┌ Warning: type VertexModel...\\VertexModelContainers.jl.VertexModelContainers.MatricesContainer does not exist in workspace; reconstructing\n",
      "└ @ JLD2 C:\\Users\\v35431nc\\.julia\\packages\\JLD2\\cHcDY\\src\\data\\reconstructing_datatypes.jl:605\n",
      "┌ Warning: type VertexModel...\\VertexModelContainers.jl.VertexModelContainers.ParametersContainer does not exist in workspace; reconstructing\n",
      "└ @ JLD2 C:\\Users\\v35431nc\\.julia\\packages\\JLD2\\cHcDY\\src\\data\\reconstructing_datatypes.jl:605\n"
     ]
    },
    {
     "name": "stderr",
     "output_type": "stream",
     "text": [
      "┌ Warning: type VertexModel...\\VertexModelContainers.jl.VertexModelContainers.MatricesContainer does not exist in workspace; reconstructing\n",
      "└ @ JLD2 C:\\Users\\v35431nc\\.julia\\packages\\JLD2\\cHcDY\\src\\data\\reconstructing_datatypes.jl:605\n"
     ]
    },
    {
     "name": "stderr",
     "output_type": "stream",
     "text": [
      "┌ Warning: type VertexModel...\\VertexModelContainers.jl.VertexModelContainers.ParametersContainer does not exist in workspace; reconstructing\n",
      "└ @ JLD2 C:\\Users\\v35431nc\\.julia\\packages\\JLD2\\cHcDY\\src\\data\\reconstructing_datatypes.jl:605\n",
      "┌ Warning: type VertexModel...\\VertexModelContainers.jl.VertexModelContainers.MatricesContainer does not exist in workspace; reconstructing\n",
      "└ @ JLD2 C:\\Users\\v35431nc\\.julia\\packages\\JLD2\\cHcDY\\src\\data\\reconstructing_datatypes.jl:605\n"
     ]
    },
    {
     "name": "stderr",
     "output_type": "stream",
     "text": [
      "┌ Warning: type VertexModel...\\VertexModelContainers.jl.VertexModelContainers.ParametersContainer does not exist in workspace; reconstructing\n",
      "└ @ JLD2 C:\\Users\\v35431nc\\.julia\\packages\\JLD2\\cHcDY\\src\\data\\reconstructing_datatypes.jl:605\n",
      "┌ Warning: type VertexModel...\\VertexModelContainers.jl.VertexModelContainers.MatricesContainer does not exist in workspace; reconstructing\n",
      "└ @ JLD2 C:\\Users\\v35431nc\\.julia\\packages\\JLD2\\cHcDY\\src\\data\\reconstructing_datatypes.jl:605\n"
     ]
    },
    {
     "name": "stderr",
     "output_type": "stream",
     "text": [
      "┌ Warning: type VertexModel...\\VertexModelContainers.jl.VertexModelContainers.ParametersContainer does not exist in workspace; reconstructing\n",
      "└ @ JLD2 C:\\Users\\v35431nc\\.julia\\packages\\JLD2\\cHcDY\\src\\data\\reconstructing_datatypes.jl:605\n"
     ]
    },
    {
     "ename": "ArgumentError",
     "evalue": "ArgumentError: No file exists at given path: C:\\Users\\v35431nc\\Documents\\VM_code\\VertexModel\\data\\sims\\Seven_cells_edge\\zero_eigen_vals_delta_L0_seven_edge.png\\frameData/systemData100.jld2",
     "output_type": "error",
     "traceback": [
      "ArgumentError: No file exists at given path: C:\\Users\\v35431nc\\Documents\\VM_code\\VertexModel\\data\\sims\\Seven_cells_edge\\zero_eigen_vals_delta_L0_seven_edge.png\\frameData/systemData100.jld2\n",
      "\n",
      "Stacktrace:\n",
      " [1] checkpath_load\n",
      "   @ C:\\Users\\v35431nc\\.julia\\packages\\FileIO\\BE7iZ\\src\\loadsave.jl:167 [inlined]\n",
      " [2] load(::String; options::Base.Pairs{Symbol, Union{}, Tuple{}, NamedTuple{(), Tuple{}}})\n",
      "   @ FileIO C:\\Users\\v35431nc\\.julia\\packages\\FileIO\\BE7iZ\\src\\loadsave.jl:110\n",
      " [3] load(::String)\n",
      "   @ FileIO C:\\Users\\v35431nc\\.julia\\packages\\FileIO\\BE7iZ\\src\\loadsave.jl:109\n",
      " [4] macro expansion\n",
      "   @ C:\\Users\\v35431nc\\.julia\\packages\\UnPack\\EkESO\\src\\UnPack.jl:100 [inlined]\n",
      " [5] top-level scope\n",
      "   @ c:\\Users\\v35431nc\\Documents\\VM_code\\VertexModel\\notebooks\\plot_emodes.ipynb:3"
     ]
    }
   ],
   "source": [
    "files=Glob.glob(\"Seven_cells_edge/*\",\"C:\\\\Users\\\\v35431nc\\\\Documents\\\\VM_code\\\\VertexModel\\\\data\\\\sims\" )\n",
    "for f in files\n",
    "    @unpack R, matrices, params = load(datadir(f,\"frameData/systemData100.jld2\"))\n",
    "    @unpack B, Bᵀ, C, cellPositions, cellAreas, cellPerimeters = matrices\n",
    "    @unpack nCells,nVerts = params\n",
    "    mkpath(datadir(f,\"eigenmodes\"))\n",
    "\n",
    "    G=makeG(params)\n",
    "    M=makeM(matrices)\n",
    "    Lc=makeEvLc(M)\n",
    "\n",
    "    emodes=eigen(Matrix(Lc*G))\n",
    "    evals=real(emodes.values)\n",
    "    evecs=real(emodes.vectors)\n",
    "    writedlm(datadir(f,\"eigenmodes\",\"eigenvalues_LG.csv\"), evals, ',') \n",
    "    writedlm(datadir(f,\"eigenmodes\",\"eigenvectors_LG.csv\"), evecs, ',')  \n",
    "\n",
    "    Lv=makeEvLv(M, G)\n",
    "    MTGMem=eigen(Matrix(mortar(Lv)))\n",
    "    Lvevals=real(MTGMem.values)\n",
    "    Lvevecs=real(MTGMem.vectors)\n",
    "    writedlm(datadir(f,\"eigenmodes\",\"eigenvalues_MTGM.csv\"), Lvevals, ',') \n",
    "    writedlm(datadir(f,\"eigenmodes\",\"eigenvectors_MTGM.csv\"), Lvevecs, ',')  \n",
    "\n",
    "    cellPolygons = makeCellPolygons(R,params,matrices)\n",
    "\n",
    "    Aevlims=(-maximum(abs.(evecs[1:nCells,:])), maximum(abs.(evecs[1:nCells, :])))\n",
    "    Levlims=(-maximum(abs.(evecs[ nCells+1:2*nCells,:])), maximum(abs.(evecs[nCells+1:2*nCells, :])))\n",
    "    # Set up figure canvas\n",
    "    set_theme!(figure_padding=1, backgroundcolor=(:white,1.0), font=\"Helvetica\", fontsize=19)\n",
    "    fig = Figure(resolution=(1500,500))\n",
    "    # grid = fig[1,1] = GridLayout()\n",
    "    # Cell div axis\n",
    "    #ax11 = Axis(fig[1,1],aspect=DataAspect())\n",
    "    for n=1:2*nCells\n",
    "        a1=Axis(fig[1,n],aspect=DataAspect())\n",
    "        a2=Axis(fig[2,n],aspect=DataAspect())\n",
    "        hidedecorations!(a1)\n",
    "        hidespines!(a1)\n",
    "        hidedecorations!(a2)\n",
    "        hidespines!(a2)\n",
    "        for i=1:nCells\n",
    "            poly!(a1,cellPolygons[i],color=[evecs[1:nCells,n][i]],colormap=:bwr,colorrange=Aevlims, strokecolor=(:black,1.0),strokewidth=2)\n",
    "            poly!(a2,cellPolygons[i],color=[evecs[nCells+1:2*nCells,n][i]],colormap=:bwr,colorrange=Levlims, strokecolor=(:black,1.0),strokewidth=2)\n",
    "        end\n",
    "        Label(fig[2,n,Bottom()],string(round(evals[n], digits=6)),fontsize = 32)\n",
    "\n",
    "        #hidedecorations!(ax22)\n",
    "        #hidespines!(ax22)\n",
    "\n",
    "        colsize!(fig.layout,n,Aspect(1,1.0))\n",
    "    end\n",
    "\n",
    "    Colorbar(fig[1,2*nCells+1],limits=colorrange=Aevlims,colormap=:bwr,flipaxis=true)\n",
    "    Colorbar(fig[2,2*nCells+1],limits=colorrange=Levlims,colormap=:bwr,flipaxis=true)\n",
    "\n",
    "\n",
    "    Label(fig[1,1,Left()],string(L\"Area\"),fontsize = 32, rotation=π/2)\n",
    "    Label(fig[2,1,Left()],string(L\"Perimeter\"),fontsize = 32, rotation=π/2)\n",
    "\n",
    "    #colgap!(fig.layout,1,Relative(0.0))\n",
    "    #colgap!(fig.layout,2,Relative(0.0))\n",
    "    #rowgap!(fig.layout,1,Relative(0.01))\n",
    "    #rowgap!(fig.layout,2,Relative(0.01))\n",
    "\n",
    "\n",
    "    # boxes = [Box(g,color=(:white,0.0)) for g in [fig[1,1],fig[1,2],fig[1,3],fig[2,1],fig[2,2],fig[2,3],fig[3,1],fig[3,2],fig[3,3]]]\n",
    "    Label( fig[0,:],\"Γ = \"*string(params.γ)*\", L₀ = \"*string(params.L₀)*\", δL = \"*string(params.δL),fontsize = 32, color = (:black, 1))\n",
    "    resize_to_layout!(fig)\n",
    "\n",
    "    #display(fig)\n",
    "    save(datadir(f,\"eigenmodes\",\"eigenmodes.png\"),fig)\n",
    "\n",
    "end\n"
   ]
  },
  {
   "cell_type": "code",
   "execution_count": null,
   "metadata": {},
   "outputs": [],
   "source": []
  }
 ],
 "metadata": {
  "kernelspec": {
   "display_name": "Julia 1.9.3",
   "language": "julia",
   "name": "julia-1.9"
  },
  "language_info": {
   "file_extension": ".jl",
   "mimetype": "application/julia",
   "name": "julia",
   "version": "1.9.3"
  }
 },
 "nbformat": 4,
 "nbformat_minor": 2
}
