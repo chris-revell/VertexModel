{
 "cells": [
  {
   "cell_type": "code",
   "execution_count": 1,
   "metadata": {},
   "outputs": [],
   "source": [
    "# Import Julia packages\n",
    "using DrWatson\n",
    "@quickactivate\n",
    "using Revise\n",
    "using LinearAlgebra\n",
    "using DelimitedFiles\n",
    "using SparseArrays\n",
    "using StaticArrays\n",
    "using BlockArrays\n",
    "using CairoMakie\n",
    "using UnPack\n",
    "using FromFile\n",
    "using GeometryBasics\n",
    "using Random\n",
    "using Colors\n",
    "using JLD2\n",
    "using LaTeXStrings\n",
    "using Glob\n",
    "using Printf\n",
    "using ColorSchemes\n",
    "\n",
    "\n",
    "@from \"$(projectdir())/src/VertexModelContainers.jl\" using VertexModelContainers\n",
    "@from \"$(projectdir())/src/Laplacians.jl\" using Laplacians\n",
    "@from \"$(projectdir())/src/AnalysisFunctions.jl\" using AnalysisFunctions\n",
    "@from \"$(projectdir())/src/CellProperties.jl\" using CellProperties\n"
   ]
  },
  {
   "cell_type": "code",
   "execution_count": 6,
   "metadata": {},
   "outputs": [
    {
     "name": "stderr",
     "output_type": "stream",
     "text": [
      "┌ Warning: type VertexModel...\\VertexModelContainers.jl.VertexModelContainers.MatricesContainer does not exist in workspace; reconstructing\n",
      "└ @ JLD2 C:\\Users\\v35431nc\\.julia\\packages\\JLD2\\cHcDY\\src\\data\\reconstructing_datatypes.jl:605\n"
     ]
    },
    {
     "name": "stderr",
     "output_type": "stream",
     "text": [
      "┌ Warning: type VertexModel...\\VertexModelContainers.jl.VertexModelContainers.ParametersContainer does not exist in workspace; reconstructing\n",
      "└ @ JLD2 C:\\Users\\v35431nc\\.julia\\packages\\JLD2\\cHcDY\\src\\data\\reconstructing_datatypes.jl:605\n"
     ]
    },
    {
     "name": "stderr",
     "output_type": "stream",
     "text": [
      "┌ Warning: type VertexModel...\\VertexModelContainers.jl.VertexModelContainers.MatricesContainer does not exist in workspace; reconstructing\n",
      "└ @ JLD2 C:\\Users\\v35431nc\\.julia\\packages\\JLD2\\cHcDY\\src\\data\\reconstructing_datatypes.jl:605\n"
     ]
    },
    {
     "name": "stderr",
     "output_type": "stream",
     "text": [
      "┌ Warning: type VertexModel...\\VertexModelContainers.jl.VertexModelContainers.ParametersContainer does not exist in workspace; reconstructing\n",
      "└ @ JLD2 C:\\Users\\v35431nc\\.julia\\packages\\JLD2\\cHcDY\\src\\data\\reconstructing_datatypes.jl:605\n",
      "┌ Warning: type VertexModel...\\VertexModelContainers.jl.VertexModelContainers.MatricesContainer does not exist in workspace; reconstructing\n",
      "└ @ JLD2 C:\\Users\\v35431nc\\.julia\\packages\\JLD2\\cHcDY\\src\\data\\reconstructing_datatypes.jl:605\n",
      "┌ Warning: type VertexModel...\\VertexModelContainers.jl.VertexModelContainers.ParametersContainer does not exist in workspace; reconstructing\n",
      "└ @ JLD2 C:\\Users\\v35431nc\\.julia\\packages\\JLD2\\cHcDY\\src\\data\\reconstructing_datatypes.jl:605\n"
     ]
    },
    {
     "name": "stderr",
     "output_type": "stream",
     "text": [
      "┌ Warning: type VertexModel...\\VertexModelContainers.jl.VertexModelContainers.MatricesContainer does not exist in workspace; reconstructing\n",
      "└ @ JLD2 C:\\Users\\v35431nc\\.julia\\packages\\JLD2\\cHcDY\\src\\data\\reconstructing_datatypes.jl:605\n",
      "┌ Warning: type VertexModel...\\VertexModelContainers.jl.VertexModelContainers.ParametersContainer does not exist in workspace; reconstructing\n",
      "└ @ JLD2 C:\\Users\\v35431nc\\.julia\\packages\\JLD2\\cHcDY\\src\\data\\reconstructing_datatypes.jl:605\n"
     ]
    },
    {
     "name": "stderr",
     "output_type": "stream",
     "text": [
      "┌ Warning: type VertexModel...\\VertexModelContainers.jl.VertexModelContainers.MatricesContainer does not exist in workspace; reconstructing\n",
      "└ @ JLD2 C:\\Users\\v35431nc\\.julia\\packages\\JLD2\\cHcDY\\src\\data\\reconstructing_datatypes.jl:605\n"
     ]
    },
    {
     "name": "stderr",
     "output_type": "stream",
     "text": [
      "┌ Warning: type VertexModel...\\VertexModelContainers.jl.VertexModelContainers.ParametersContainer does not exist in workspace; reconstructing\n",
      "└ @ JLD2 C:\\Users\\v35431nc\\.julia\\packages\\JLD2\\cHcDY\\src\\data\\reconstructing_datatypes.jl:605\n",
      "┌ Warning: type VertexModel...\\VertexModelContainers.jl.VertexModelContainers.MatricesContainer does not exist in workspace; reconstructing\n",
      "└ @ JLD2 C:\\Users\\v35431nc\\.julia\\packages\\JLD2\\cHcDY\\src\\data\\reconstructing_datatypes.jl:605\n",
      "┌ Warning: type VertexModel...\\VertexModelContainers.jl.VertexModelContainers.ParametersContainer does not exist in workspace; reconstructing\n",
      "└ @ JLD2 C:\\Users\\v35431nc\\.julia\\packages\\JLD2\\cHcDY\\src\\data\\reconstructing_datatypes.jl:605\n"
     ]
    }
   ],
   "source": [
    "folder=\"C:\\\\Users\\\\v35431nc\\\\Documents\\\\VM_code\\\\VertexModel\\\\data\\\\sims/new_energy/Hex_relax/relaxed\"\n",
    "files=Glob.glob(\"new_energy/Hex_relax/relaxed/systemData*Gamma_0.1*.jld2\",\"C:\\\\Users\\\\v35431nc\\\\Documents\\\\VM_code\\\\VertexModel\\\\data\\\\sims\")\n",
    "\n",
    "mkpath(datadir(folder,\"vertex_modes\"))\n",
    "\n",
    "for f in files\n",
    "\n",
    "    @unpack R, matrices, params = load(f)\n",
    "    @unpack nCells,nVerts,γ , L₀ = params\n",
    "    @unpack cellAreas,cellPerimeters, cellTensions, cellPressures, cellEdgeCount, edgeTangents,vertexAreas,A,Ā,B,B̄,C, ϵ = matrices\n",
    "\n",
    "\n",
    "    M=makeM(matrices)\n",
    "    dAdr=-1/2*B*Diagonal([(ϵ*T) for T in edgeTangents])*Ā\n",
    "    dLdr= B̄*Diagonal((edgeTangents)./norm.(edgeTangents))*A\n",
    "    Mtemp=vcat(dAdr,dLdr)\n",
    "    Mflat=transpose(reshape(reinterpret(Float64,[vcat(Matrix(Mtemp)[x,:]...) for x in collect(1:2*nCells)]), ( 2*nVerts, 2*nCells)))\n",
    "    \n",
    "    dat_folder=Glob.glob(\"new_energy/Hex_relax/relaxed/data/Γ_\"*string(γ)*\"_L0_\"*string(L₀),\"C:\\\\Users\\\\v35431nc\\\\Documents\\\\VM_code\\\\VertexModel\\\\data\\\\sims\")[1]\n",
    "\n",
    "    #evalH=readdlm(datadir(folder,\"HE_eigenvalues.csv\"))[:,1]\n",
    "    evecH=readdlm(datadir(dat_folder,\"HE_eigenvectors.csv\"), ',')\n",
    "    \n",
    "    MevH=Mflat*evecH\n",
    "    \n",
    "    plot_dir=mkpath(datadir(folder,\"vertex_modes\", \"Γ_\"*string(params.γ)*\"_L0_\"*string(params.L₀)))\n",
    "        \n",
    "    cellPolygons = makeCellPolygons(R,params,matrices)\n",
    "    for n=1:2*nVerts\n",
    "    #n=4\n",
    "        Aevlims=(-maximum(abs.(MevH[1:nCells, :])), maximum(abs.(MevH[1:nCells, :])))\n",
    "        set_theme!(figure_padding=1, backgroundcolor=(:white,1.0), font=\"Helvetica\", fontsize=19)\n",
    "        fig = Figure(resolution=(1500,500))\n",
    "\n",
    "        a1=Axis(fig[1,1],aspect=DataAspect())\n",
    "        hidedecorations!(a1)\n",
    "        hidespines!(a1)\n",
    "\n",
    "        for i=1:nCells\n",
    "            poly!(a1,cellPolygons[i],color=[MevH[1:nCells,n][i]],colormap=:bwr,colorrange=Aevlims, strokecolor=(:grey,1.0),strokewidth=0.5)\n",
    "        end\n",
    "\n",
    "        colsize!(fig.layout,1,Aspect(1,1.0))\n",
    "        Label(fig[1,1,Bottom()],\"n = \"*string(n),fontsize = 32)\n",
    "        resize_to_layout!(fig)\n",
    "        arrows!(a1, Point2f.(R),Vec2f.(reinterpret(SVector{2,Float64},evecH[:,n])), color=:black, arrowsize=7, lengthscale=0.1*L₀/γ)\n",
    "        save(datadir(plot_dir,\"abs_scalemode_$(@sprintf(\"%03d\", n))_Area.png\"),fig)\n",
    "        #fig\n",
    "    end\n",
    "\n",
    "end"
   ]
  },
  {
   "cell_type": "code",
   "execution_count": null,
   "metadata": {},
   "outputs": [],
   "source": []
  }
 ],
 "metadata": {
  "kernelspec": {
   "display_name": "Julia 1.9.3",
   "language": "julia",
   "name": "julia-1.9"
  },
  "language_info": {
   "file_extension": ".jl",
   "mimetype": "application/julia",
   "name": "julia",
   "version": "1.9.3"
  }
 },
 "nbformat": 4,
 "nbformat_minor": 2
}
