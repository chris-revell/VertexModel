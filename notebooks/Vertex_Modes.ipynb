{
 "cells": [
  {
   "cell_type": "code",
   "execution_count": 2,
   "metadata": {},
   "outputs": [],
   "source": [
    "# Import Julia packages\n",
    "using DrWatson\n",
    "@quickactivate\n",
    "using Revise\n",
    "using LinearAlgebra\n",
    "using DelimitedFiles\n",
    "using SparseArrays\n",
    "using StaticArrays\n",
    "using BlockArrays\n",
    "using CairoMakie\n",
    "using UnPack\n",
    "using FromFile\n",
    "using GeometryBasics\n",
    "using Random\n",
    "using Colors\n",
    "using JLD2\n",
    "using LaTeXStrings\n",
    "using Glob\n",
    "using Printf\n",
    "using ColorSchemes\n",
    "\n",
    "\n",
    "@from \"$(projectdir())/src/VertexModelContainers.jl\" using VertexModelContainers\n",
    "@from \"$(projectdir())/src/Laplacians.jl\" using Laplacians\n",
    "@from \"$(projectdir())/src/AnalysisFunctions.jl\" using AnalysisFunctions\n",
    "@from \"$(projectdir())/src/CellProperties.jl\" using CellProperties\n"
   ]
  },
  {
   "cell_type": "code",
   "execution_count": 8,
   "metadata": {},
   "outputs": [
    {
     "name": "stderr",
     "output_type": "stream",
     "text": [
      "┌ Warning: type VertexModel...\\VertexModelContainers.jl.VertexModelContainers.MatricesContainer does not exist in workspace; reconstructing\n",
      "└ @ JLD2 C:\\Users\\v35431nc\\.julia\\packages\\JLD2\\cHcDY\\src\\data\\reconstructing_datatypes.jl:605\n"
     ]
    },
    {
     "name": "stdout",
     "output_type": "stream",
     "text": [
      "γ = 0.5\n",
      "L₀ = 1.0"
     ]
    },
    {
     "name": "stderr",
     "output_type": "stream",
     "text": [
      "┌ Warning: type VertexModel...\\VertexModelContainers.jl.VertexModelContainers.ParametersContainer does not exist in workspace; reconstructing\n",
      "└ @ JLD2 C:\\Users\\v35431nc\\.julia\\packages\\JLD2\\cHcDY\\src\\data\\reconstructing_datatypes.jl:605\n"
     ]
    },
    {
     "name": "stdout",
     "output_type": "stream",
     "text": [
      "\n"
     ]
    }
   ],
   "source": [
    "folder=\"C:\\\\Users\\\\v35431nc\\\\Documents\\\\VM_code\\\\VertexModel\\\\data\\\\sims/new_energy/Hex_relax/relaxed\"\n",
    "files=Glob.glob(\"new_energy/Hex_relax/relaxed/systemData*L₀=1.0_*γ=0.5*.jld2\",\"C:\\\\Users\\\\v35431nc\\\\Documents\\\\VM_code\\\\VertexModel\\\\data\\\\sims\")\n",
    "\n",
    "mkpath(datadir(folder,\"vertex_modes\"))\n",
    "\n",
    "for f in files\n",
    "    @unpack R, matrices, params = load(f)\n",
    "    @unpack nCells,nVerts,γ , L₀ = params\n",
    "    @unpack cellAreas,cellPerimeters, cellTensions, cellPressures, cellEdgeCount, edgeTangents,vertexAreas,A,Ā,B,B̄,C, ϵ = matrices\n",
    "\n",
    "\n",
    "    M=makeM(matrices)\n",
    "    dAdr=-1/2*B*Diagonal([(ϵ*T) for T in edgeTangents])*Ā\n",
    "    dLdr= B̄*Diagonal((edgeTangents)./norm.(edgeTangents))*A\n",
    "    Mtemp=vcat(dAdr,dLdr)\n",
    "    Mflat=transpose(reshape(reinterpret(Float64,[vcat(Matrix(Mtemp)[x,:]...) for x in collect(1:2*nCells)]), ( 2*nVerts, 2*nCells)))\n",
    "    @show γ\n",
    "    @show L₀\n",
    "    dat_folder=Glob.glob(\"new_energy/Hex_relax/relaxed/data/Γ_\"*string(γ)*\"_L0_\"*string(L₀),\"C:\\\\Users\\\\v35431nc\\\\Documents\\\\VM_code\\\\VertexModel\\\\data\\\\sims\")[1]\n",
    "\n",
    "    #evalH=readdlm(datadir(folder,\"HE_eigenvalues.csv\"))[:,1]\n",
    "    evecH=readdlm(datadir(dat_folder,\"HE_eigenvectors.csv\"), ',')\n",
    "    \n",
    "    MevH=Mflat*evecH\n",
    "    \n",
    "    plot_dir=mkpath(datadir(folder,\"vertex_modes\", \"Γ_\"*string(params.γ)*\"_L0_\"*string(params.L₀)))\n",
    "        \n",
    "    cellPolygons = makeCellPolygons(R,params,matrices)\n",
    "    for n=1:2*nVerts\n",
    "    #n=4\n",
    "        #Aevlims=(-maximum(abs.(MevH[1:nCells, :])), maximum(abs.(MevH[1:nCells, :])))\n",
    "        Aevlims=(-1,1)\n",
    "        set_theme!(figure_padding=1, backgroundcolor=(:white,1.0), font=\"Helvetica\", fontsize=19)\n",
    "        fig = Figure(resolution=(1500,500))\n",
    "\n",
    "        a1=Axis(fig[1,1],aspect=DataAspect())\n",
    "        hidedecorations!(a1)\n",
    "        hidespines!(a1)\n",
    "\n",
    "        for i=1:nCells\n",
    "            poly!(a1,cellPolygons[i],color=[MevH[1:nCells,n][i]],colormap=:bwr,colorrange=Aevlims, strokecolor=(:grey,1.0),strokewidth=0.5)\n",
    "        end\n",
    "\n",
    "        colsize!(fig.layout,1,Aspect(1,1.0))\n",
    "        Label(fig[1,1,Bottom()],\"n = \"*string(n),fontsize = 32)\n",
    "        resize_to_layout!(fig)\n",
    "        arrows!(a1, Point2f.(R),Vec2f.(reinterpret(SVector{2,Float64},evecH[:,n])), color=:black, arrowsize=7, lengthscale=0.2*L₀/γ)\n",
    "        save(datadir(plot_dir,\"abs_scalemode_$(@sprintf(\"%03d\", n))_Area.png\"),fig)\n",
    "        #fig\n",
    "    end\n",
    "\n",
    "end"
   ]
  },
  {
   "cell_type": "code",
   "execution_count": 6,
   "metadata": {},
   "outputs": [
    {
     "ename": "UndefVarError",
     "evalue": "UndefVarError: `plot_dir` not defined",
     "output_type": "error",
     "traceback": [
      "UndefVarError: `plot_dir` not defined\n"
     ]
    }
   ],
   "source": [
    "plot_dir"
   ]
  },
  {
   "cell_type": "code",
   "execution_count": 30,
   "metadata": {},
   "outputs": [
    {
     "name": "stderr",
     "output_type": "stream",
     "text": [
      "┌ Warning: type VertexModel...\\VertexModelContainers.jl.VertexModelContainers.MatricesContainer does not exist in workspace; reconstructing\n",
      "└ @ JLD2 C:\\Users\\v35431nc\\.julia\\packages\\JLD2\\cHcDY\\src\\data\\reconstructing_datatypes.jl:605\n"
     ]
    },
    {
     "name": "stdout",
     "output_type": "stream",
     "text": [
      "γ = 0.5\n",
      "L₀ = 1.0"
     ]
    },
    {
     "name": "stderr",
     "output_type": "stream",
     "text": [
      "┌ Warning: type VertexModel...\\VertexModelContainers.jl.VertexModelContainers.ParametersContainer does not exist in workspace; reconstructing\n",
      "└ @ JLD2 C:\\Users\\v35431nc\\.julia\\packages\\JLD2\\cHcDY\\src\\data\\reconstructing_datatypes.jl:605\n"
     ]
    },
    {
     "name": "stdout",
     "output_type": "stream",
     "text": [
      "\n"
     ]
    }
   ],
   "source": [
    "folder=\"C:\\\\Users\\\\v35431nc\\\\Documents\\\\VM_code\\\\VertexModel\\\\data\\\\sims/new_energy/transition/layer4/relaxed\"\n",
    "files=Glob.glob(\"new_energy/transition/layer4/L₀=1.0_nCells=100_realTimetMax=86400.0_γ=0.5_24-02-23-10-56-47/systemData*.jld2\",\"C:\\\\Users\\\\v35431nc\\\\Documents\\\\VM_code\\\\VertexModel\\\\data\\\\sims\")\n",
    "\n",
    "mkpath(datadir(folder,\"vertex_modes\"))\n",
    "\n",
    "for f in files\n",
    "    @unpack R, matrices, params = load(f)\n",
    "    @unpack nCells,nVerts,γ , L₀ = params\n",
    "    @unpack cellAreas,cellPerimeters, cellTensions, cellPressures, cellEdgeCount, edgeTangents,vertexAreas,A,Ā,B,B̄,C, ϵ = matrices\n",
    "\n",
    "\n",
    "    M=makeM(matrices)\n",
    "    dAdr=-1/2*B*Diagonal([(ϵ*T) for T in edgeTangents])*Ā\n",
    "    dLdr= B̄*Diagonal((edgeTangents)./norm.(edgeTangents))*A\n",
    "    Mtemp=vcat(dAdr,dLdr)\n",
    "    Mflat=transpose(reshape(reinterpret(Float64,[vcat(Matrix(Mtemp)[x,:]...) for x in collect(1:2*nCells)]), ( 2*nVerts, 2*nCells)))\n",
    "    @show γ\n",
    "    @show L₀\n",
    "    dat_folder=Glob.glob(\"new_energy/transition/layer4/relaxed/data/Γ_\"*string(γ)*\"_L0_\"*string(L₀),\"C:\\\\Users\\\\v35431nc\\\\Documents\\\\VM_code\\\\VertexModel\\\\data\\\\sims\")[1]\n",
    "\n",
    "    #evalH=readdlm(datadir(folder,\"HE_eigenvalues.csv\"))[:,1]\n",
    "    evecH=readdlm(datadir(dat_folder,\"HE_eigenvectors.csv\"), ',')\n",
    "    \n",
    "    MevH=Mflat*evecH\n",
    "    \n",
    "    plot_dir=mkpath(datadir(folder,\"vertex_modes\", \"Γ_\"*string(params.γ)*\"_L0_\"*string(params.L₀)))\n",
    "        \n",
    "    cellPolygons = makeCellPolygons(R,params,matrices)\n",
    "    for n=1:2*nVerts\n",
    "    #n=4\n",
    "        #Aevlims=(-maximum(abs.(MevH[nCells+1:end, :])), maximum(abs.(MevH[nCells+1:end, :])))\n",
    "        Aevlims=(-1,1)\n",
    "\n",
    "        set_theme!(figure_padding=1, backgroundcolor=(:white,1.0), font=\"Helvetica\", fontsize=19)\n",
    "        fig = Figure(resolution=(1500,500))\n",
    "\n",
    "        a1=Axis(fig[1,1],aspect=DataAspect())\n",
    "        hidedecorations!(a1)\n",
    "        hidespines!(a1)\n",
    "\n",
    "        for i=1:nCells\n",
    "            poly!(a1,cellPolygons[i],color=[MevH[nCells+1:end,n][i]],colormap=:bwr,colorrange=Aevlims, strokecolor=(:grey,1.0),strokewidth=0.5)\n",
    "        end\n",
    "\n",
    "        colsize!(fig.layout,1,Aspect(1,1.0))\n",
    "        Label(fig[1,1,Bottom()],\"n = \"*string(n),fontsize = 32)\n",
    "        resize_to_layout!(fig)\n",
    "        arrows!(a1, Point2f.(R),Vec2f.(reinterpret(SVector{2,Float64},evecH[:,n])), color=:black, arrowsize=7, lengthscale=0.2*L₀/γ)\n",
    "        save(datadir(plot_dir,\"abs_scalemode_$(@sprintf(\"%03d\", n))_Perimeter.png\"),fig)\n",
    "        #fig\n",
    "    end\n",
    "\n",
    "end"
   ]
  },
  {
   "cell_type": "code",
   "execution_count": 26,
   "metadata": {},
   "outputs": [
    {
     "data": {
      "text/plain": [
       "456×456 Matrix{Float64}:\n",
       " -0.272069    -0.168815   -0.37563     …  -6.45356e-9   -1.47952e-17\n",
       "  0.0138504    0.455227    0.0261823       1.20383e-9    1.28182e-17\n",
       " -0.0773687   -0.0327576  -0.368029       -1.01384e-5   -6.28886e-14\n",
       " -0.00316258   0.443339    0.0255182       9.63908e-6   -7.82122e-14\n",
       "  0.0453042    0.0529669  -0.36324        -0.00171252    1.92654e-15\n",
       "  0.21186      0.593598    0.0339123   …  -0.00140926    1.53003e-15\n",
       "  0.300598     0.231368   -0.353274       -0.000593459   5.74008e-10\n",
       " -0.00447109   0.442424    0.0254671      -0.000207908  -1.13094e-10\n",
       "  0.186177     0.15141    -0.357741        2.0565e-8    -2.91579e-7\n",
       " -0.248235     0.27208     0.0159509       1.13872e-8    4.12385e-6\n",
       "  ⋮                                    ⋱                 ⋮\n",
       " -0.352504     0.199217    0.0118805      -1.87741e-12   7.97829e-8\n",
       "  0.210318     0.16828    -0.356798       -1.77108e-14   0.0112561\n",
       " -0.485614     0.106198    0.00668406      9.79471e-15  -0.000792305\n",
       "  0.168593     0.139122   -0.358427    …  -1.08745e-13   0.00374106\n",
       " -0.450354     0.130839    0.00806057     -9.61703e-14  -0.0086365\n",
       " -0.242657    -0.148262   -0.374482       -5.21348e-13  -1.7097e-13\n",
       " -0.318913     0.22269     0.0131918      -4.15934e-13  -9.05129e-13\n",
       " -0.211865    -0.126744   -0.37328         1.6458e-13    7.44854e-12\n",
       " -0.373741     0.184376    0.0110514   …  -8.75456e-14   4.24956e-12"
      ]
     },
     "metadata": {},
     "output_type": "display_data"
    }
   ],
   "source": [
    "dat_folder=Glob.glob(\"new_energy/transition/layer4/relaxed/data/Γ_0.5_L0_1.0\",\"C:\\\\Users\\\\v35431nc\\\\Documents\\\\VM_code\\\\VertexModel\\\\data\\\\sims\")[1]\n",
    "\n",
    "#evalH=readdlm(datadir(folder,\"HE_eigenvalues.csv\"))[:,1]\n",
    "evecH=readdlm(datadir(dat_folder,\"HE_eigenvectors.csv\"), ',')"
   ]
  },
  {
   "cell_type": "code",
   "execution_count": 27,
   "metadata": {},
   "outputs": [
    {
     "data": {
      "text/plain": [
       "456×456 Matrix{Float64}:\n",
       " 30.989         1.9984e-14    4.46865e-15  …   6.55032e-15  -5.85643e-15\n",
       "  1.9984e-14   30.989         1.63758e-15     -6.64052e-15   1.11022e-16\n",
       "  4.46865e-15   1.63758e-15  20.7905           3.3645e-15    1.58207e-15\n",
       " -1.02696e-15  -2.55351e-15   1.02141e-14      6.6995e-15    9.64506e-16\n",
       " -1.36002e-15   3.10862e-15   7.54952e-15      3.60822e-15   4.6213e-15\n",
       "  8.9373e-15    3.747e-15     2.44249e-15  …  -1.19349e-14   4.85376e-15\n",
       "  6.89032e-15   4.656e-15     3.57353e-15      5.79831e-16   3.01842e-15\n",
       "  7.65707e-15   1.23235e-14  -3.1225e-15      -1.2268e-14   -5.41234e-15\n",
       "  2.77556e-15   2.66454e-15   1.14075e-14     -8.53484e-15  -1.062e-14\n",
       "  5.07927e-15   2.33147e-15  -6.38378e-15      2.25098e-14   1.61815e-14\n",
       "  ⋮                                        ⋱                 ⋮\n",
       "  9.71445e-17   2.16493e-15   1.18664e-14      4.47559e-15  -7.35523e-15\n",
       "  0.0           1.27676e-15   3.74006e-15      7.38298e-15  -3.20577e-15\n",
       "  8.74301e-15   7.27196e-15  -9.63118e-15      7.59809e-16  -2.10942e-15\n",
       "  1.11022e-15   3.88578e-16  -4.60743e-15  …  -7.71605e-15  -2.2482e-15\n",
       " -8.72219e-15  -7.38298e-15   2.70617e-16      1.1352e-14   -6.68909e-15\n",
       "  1.66533e-15   1.54043e-15   1.01308e-15      8.43769e-15  -1.68754e-14\n",
       "  2.33147e-15  -2.90046e-15   5.1131e-15       1.27676e-14  -8.43769e-15\n",
       "  6.55032e-15  -6.64052e-15   3.3645e-15      28.3122       -3.10862e-14\n",
       " -5.85643e-15   1.11022e-16   1.58207e-15  …  -3.10862e-14  28.3122"
      ]
     },
     "metadata": {},
     "output_type": "display_data"
    }
   ],
   "source": [
    "Hist"
   ]
  },
  {
   "cell_type": "code",
   "execution_count": null,
   "metadata": {},
   "outputs": [],
   "source": []
  }
 ],
 "metadata": {
  "kernelspec": {
   "display_name": "Julia 1.9.3",
   "language": "julia",
   "name": "julia-1.9"
  },
  "language_info": {
   "file_extension": ".jl",
   "mimetype": "application/julia",
   "name": "julia",
   "version": "1.9.3"
  }
 },
 "nbformat": 4,
 "nbformat_minor": 2
}
